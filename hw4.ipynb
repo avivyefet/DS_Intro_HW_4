{
 "cells": [
  {
   "cell_type": "markdown",
   "id": "98ecb1f1",
   "metadata": {},
   "source": [
    " Assignment 4 – Web services "
   ]
  },
  {
   "cell_type": "markdown",
   "id": "7f44ad10",
   "metadata": {},
   "source": [
    " Aviv Yefet - 208495267"
   ]
  },
  {
   "cell_type": "code",
   "execution_count": 158,
   "id": "3d460670",
   "metadata": {},
   "outputs": [],
   "source": [
    "import requests"
   ]
  },
  {
   "cell_type": "code",
   "execution_count": 159,
   "id": "48fbcb5e",
   "metadata": {},
   "outputs": [],
   "source": [
    "fhand = open(\"dests.txt\")"
   ]
  },
  {
   "cell_type": "code",
   "execution_count": 160,
   "id": "ebadc8bb",
   "metadata": {},
   "outputs": [],
   "source": [
    "dic = dict()"
   ]
  },
  {
   "cell_type": "code",
   "execution_count": 161,
   "id": "54514dd1",
   "metadata": {
    "scrolled": true
   },
   "outputs": [],
   "source": [
    "api_key = \"ApiKey\"\n",
    "origins = \"Jerusalem\"\n",
    "\n",
    "for destination in fhand:\n",
    "    destination = destination.rstrip()\n",
    "    \n",
    "    # distancematrix \n",
    "    url_distance = \"https://maps.googleapis.com/maps/api/distancematrix/json?destinations=%s&origins=%s&key=%s\" % (destination,origins,api_key)\n",
    "    response_distance = requests.get(url_distance).json()\n",
    "    Distance = response_distance['rows'][0]['elements'][0]['distance']['text']\n",
    "    Arrival_time =  (response_distance['rows'][0]['elements'][0]['duration']['value'])/60 # in minuets as requested\n",
    "    \n",
    "    # geocode\n",
    "    url_geo = \"https://maps.googleapis.com/maps/api/geocode/json?address=%s&key=%s\" % (destination,api_key)\n",
    "    response_geo = requests.get(url_geo).json()\n",
    "    Longitude = response_geo['results'][0]['geometry']['location']['lng']\n",
    "    Latitude = response_geo['results'][0]['geometry']['location']['lat']\n",
    "\n",
    "    dic[destination] = (Distance, Arrival_time, Longitude, Latitude)\n",
    "\n"
   ]
  },
  {
   "cell_type": "code",
   "execution_count": 162,
   "id": "34dafaab",
   "metadata": {
    "scrolled": false
   },
   "outputs": [
    {
     "name": "stdout",
     "output_type": "stream",
     "text": [
      "{'Istanbul': ('1,809 km', 1242.0833333333333, 28.9783589, 41.0082376), 'Amsterdam': ('4,528 km', 2853.1666666666665, 4.9041389, 52.3675734), 'Valletta': ('3,783 km', 3029.3166666666666, 14.5145528, 35.8989085), 'Basel': ('4,091 km', 2622.55, 7.5885761, 47.5595986), 'Doha': ('2,104 km', 1311.3666666666666, 51.53103979999999, 25.2854473)}\n"
     ]
    }
   ],
   "source": [
    "print(dic)"
   ]
  },
  {
   "cell_type": "code",
   "execution_count": 170,
   "id": "fc2dd0dc",
   "metadata": {},
   "outputs": [
    {
     "name": "stdout",
     "output_type": "stream",
     "text": [
      "Istanbul : \n",
      " Distance from Jerusalem: 1,809 km \n",
      " Arrival time from Jerusalem: 20 hours 42 minutes \n",
      " Longitude: 28.9783589 \n",
      " Latitude:  41.0082376 \n",
      "\n",
      "Amsterdam : \n",
      " Distance from Jerusalem: 4,528 km \n",
      " Arrival time from Jerusalem: 47 hours 33 minutes \n",
      " Longitude: 4.9041389 \n",
      " Latitude:  52.3675734 \n",
      "\n",
      "Valletta : \n",
      " Distance from Jerusalem: 3,783 km \n",
      " Arrival time from Jerusalem: 50 hours 29 minutes \n",
      " Longitude: 14.5145528 \n",
      " Latitude:  35.8989085 \n",
      "\n",
      "Basel : \n",
      " Distance from Jerusalem: 4,091 km \n",
      " Arrival time from Jerusalem: 43 hours 42 minutes \n",
      " Longitude: 7.5885761 \n",
      " Latitude:  47.5595986 \n",
      "\n",
      "Doha : \n",
      " Distance from Jerusalem: 2,104 km \n",
      " Arrival time from Jerusalem: 21 hours 51 minutes \n",
      " Longitude: 51.53103979999999 \n",
      " Latitude:  25.2854473 \n",
      "\n"
     ]
    }
   ],
   "source": [
    "# presenting the information for each destination:\n",
    "\n",
    "for key,val in dic.items():\n",
    "    \n",
    "    total_minutes = val[1]\n",
    "    hours =int( total_minutes // 60)  # Get hours with floor divisio\n",
    "    minutes = int(total_minutes % 60)  # Get additional minutes with modulus\n",
    "    \n",
    "    print (key,\":\" ,'\\n',\n",
    "           'Distance from Jerusalem:',val[0] ,'\\n', \n",
    "           'Arrival time from Jerusalem:',hours,'hours',minutes,'minutes', '\\n',\n",
    "           'Longitude:', val[2],'\\n', 'Latitude: ', val[3],'\\n') \n",
    "    \n",
    "        "
   ]
  },
  {
   "cell_type": "code",
   "execution_count": 171,
   "id": "c72b1d00",
   "metadata": {},
   "outputs": [
    {
     "name": "stdout",
     "output_type": "stream",
     "text": [
      "Amsterdam 4,528 km\n",
      "Basel 4,091 km\n",
      "Valletta 3,783 km\n"
     ]
    }
   ],
   "source": [
    "# Finding the 3 cities furthest from Jerusalem.\n",
    "lst = []\n",
    "for key,val in dic.items():\n",
    "    newtup = (val[0],key)\n",
    "    lst.append(newtup)\n",
    "\n",
    "lst = sorted(lst, reverse= True)\n",
    "\n",
    "for val,key in lst[:3]:\n",
    "    print(key, val)\n"
   ]
  }
 ],
 "metadata": {
  "kernelspec": {
   "display_name": "Python 3 (ipykernel)",
   "language": "python",
   "name": "python3"
  },
  "language_info": {
   "codemirror_mode": {
    "name": "ipython",
    "version": 3
   },
   "file_extension": ".py",
   "mimetype": "text/x-python",
   "name": "python",
   "nbconvert_exporter": "python",
   "pygments_lexer": "ipython3",
   "version": "3.9.7"
  }
 },
 "nbformat": 4,
 "nbformat_minor": 5
}
